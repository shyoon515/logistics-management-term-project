{
 "cells": [
  {
   "cell_type": "markdown",
   "metadata": {},
   "source": [
    "### References\n",
    "- https://velog.io/@choonsik_mom/Naver-API%EB%A1%9C-%EA%B8%B8%EC%B0%BE%EA%B8%B0with-python\n",
    "- https://rkckskdk.tistory.com/312\n"
   ]
  },
  {
   "cell_type": "code",
   "execution_count": 16,
   "metadata": {},
   "outputs": [],
   "source": [
    "import requests\n",
    "import pandas as pd\n",
    "\n",
    "def get_coordinates(address, client_id, client_secret):\n",
    "    url = \"https://naveropenapi.apigw.ntruss.com/map-geocode/v2/geocode\"\n",
    "    headers = {\n",
    "        \"X-NCP-APIGW-API-KEY-ID\": client_id,\n",
    "        \"X-NCP-APIGW-API-KEY\": client_secret\n",
    "    }\n",
    "    params = {\"query\": address}\n",
    "    response = requests.get(url, headers=headers, params=params)\n",
    "    \n",
    "    if response.status_code == 200:\n",
    "        data = response.json()\n",
    "        if data['addresses']:\n",
    "            latitude = float(data['addresses'][0]['y'])\n",
    "            longitude = float(data['addresses'][0]['x'])\n",
    "            return f\"{latitude},{longitude}\"\n",
    "        else:\n",
    "            return \"0.0,0.0\"\n",
    "    else:\n",
    "        print(f\"오류 발생 - 상태 코드: {response.status_code}, 응답: {response.text}\")\n",
    "        return \"0.0,0.0\"\n",
    "\n",
    "def process_addresses(input_file, output_file, client_id, client_secret):\n",
    "    \n",
    "    with open(input_file, 'r', encoding='utf-8') as file:\n",
    "        addresses = file.readlines()\n",
    "\n",
    "    with open(output_file, 'w', encoding='utf-8') as file:\n",
    "        for address in addresses:\n",
    "            address = address.strip()\n",
    "            if address:\n",
    "                coordinates = get_coordinates(address, client_id, client_secret)\n",
    "                file.write(f\"{address}: {coordinates}\\n\")"
   ]
  },
  {
   "cell_type": "code",
   "execution_count": 17,
   "metadata": {},
   "outputs": [],
   "source": [
    "import json\n",
    "\n",
    "# JSON 파일에서 API 키 불러오기\n",
    "def load_api_keys(file_path):\n",
    "    with open(file_path, 'r') as file:\n",
    "        config = json.load(file)\n",
    "    return config['client_id'], config['client_secret']\n",
    "\n",
    "# API 키 로드\n",
    "client_id, client_secret = load_api_keys('./../config.json')\n",
    "process_addresses('./../Data/input.txt', './../Data/output.txt', client_id, client_secret)"
   ]
  },
  {
   "cell_type": "code",
   "execution_count": null,
   "metadata": {},
   "outputs": [],
   "source": []
  },
  {
   "cell_type": "code",
   "execution_count": null,
   "metadata": {},
   "outputs": [],
   "source": []
  }
 ],
 "metadata": {
  "kernelspec": {
   "display_name": "base",
   "language": "python",
   "name": "python3"
  },
  "language_info": {
   "codemirror_mode": {
    "name": "ipython",
    "version": 3
   },
   "file_extension": ".py",
   "mimetype": "text/x-python",
   "name": "python",
   "nbconvert_exporter": "python",
   "pygments_lexer": "ipython3",
   "version": "3.11.5"
  }
 },
 "nbformat": 4,
 "nbformat_minor": 2
}
