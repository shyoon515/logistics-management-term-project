{
 "cells": [
  {
   "cell_type": "code",
   "execution_count": 1,
   "metadata": {},
   "outputs": [],
   "source": [
    "import pandas as pd\n",
    "import numpy as np\n",
    "from tqdm import tqdm"
   ]
  },
  {
   "cell_type": "code",
   "execution_count": 2,
   "metadata": {},
   "outputs": [],
   "source": [
    "import json"
   ]
  },
  {
   "cell_type": "markdown",
   "metadata": {},
   "source": [
    "### Utility 함수들"
   ]
  },
  {
   "cell_type": "code",
   "execution_count": 3,
   "metadata": {},
   "outputs": [],
   "source": [
    "# utility functions\n",
    "\n",
    "import json\n",
    "def get_cost(index1, index2, cost_type, json_path, toll_include=True):\n",
    "    \"\"\"\n",
    "    index1, index2와 cost_type을 지정해주면 json 파일을 파싱하여 비용을 반환\n",
    "    \"\"\"\n",
    "\n",
    "    # 출발지와 도착지가 같은 경우 0 반환\n",
    "    if index1 == index2:\n",
    "        return 0\n",
    "    else:\n",
    "        from_idx = min(index1, index2)\n",
    "        to_idx = max(index1, index2)\n",
    "\n",
    "        # 마지막에 /가 없으면 붙이기\n",
    "        if json_path[-1] != '/':\n",
    "            json_path += '/'\n",
    "        json_path = json_path + f'route_{from_idx}_{to_idx}.json'\n",
    "        \n",
    "        try:\n",
    "            with open(json_path, 'r') as file:\n",
    "                data = json.load(file)\n",
    "        except:\n",
    "            print(f\"{json_path} 파일을 읽을 수 없음\")\n",
    "            raise ValueError()\n",
    "        \n",
    "        try:\n",
    "            tollFare = 0 if toll_include else data['route'][cost_type][0]['summary']['tollFare']\n",
    "            feulPrice = data['route'][cost_type][0]['summary']['fuelPrice']\n",
    "            return tollFare+feulPrice\n",
    "        except:\n",
    "            print(f\"{json_path} 파일의 tollFare와 fuelPrice 파싱 불가\")\n",
    "            raise ValueError()"
   ]
  },
  {
   "cell_type": "markdown",
   "metadata": {},
   "source": [
    "### 수요 및 각 node와 depot의 cost"
   ]
  },
  {
   "cell_type": "code",
   "execution_count": 4,
   "metadata": {},
   "outputs": [],
   "source": [
    "DEPOT_INDEX = 0\n",
    "COST_TYPE = 'trafast'\n",
    "mu = 300\n",
    "std = 100\n",
    "\n",
    "node_data = pd.read_csv('./../Data/data.csv')\n",
    "\n",
    "# 데이터프레임 생성\n",
    "node_demands = pd.DataFrame(columns=['node'], data=node_data[node_data['index'] != DEPOT_INDEX]['index'].values)\n",
    "\n",
    "# 각 node에서의 수요(필요에 따라 코드 수정)\n",
    "node_demands['demand'] = None\n",
    "for node in node_demands['node']:\n",
    "    machine_num = node_data.loc[node_data['index']==node, 'machine'].values[0]\n",
    "\n",
    "    node_demand = 0\n",
    "\n",
    "    # 기기수만큼 정규분포에서 랜덤 샘플링을 진행하여 더해줌\n",
    "    while(machine_num != 0):\n",
    "        node_demand += np.random.normal(mu, std)\n",
    "        machine_num -= 1\n",
    "\n",
    "    node_demand = round(node_demand)\n",
    "    if node_demand < 0:\n",
    "        node_demand = 0\n",
    "    node_demands.loc[node_demands['node'] == node, 'demand'] = node_demand\n",
    "\n",
    "# node와 depot의 cost\n",
    "node_demands['depot_node_cost'] = node_demands['node'].apply(lambda x : get_cost(DEPOT_INDEX, x, COST_TYPE, './../Data/routes', toll_include=True))"
   ]
  },
  {
   "cell_type": "markdown",
   "metadata": {},
   "source": [
    "##### Node-link 구조 활용"
   ]
  },
  {
   "cell_type": "code",
   "execution_count": 4,
   "metadata": {},
   "outputs": [],
   "source": [
    "import sys\n",
    "sys.path.append('C:/Users/james/OneDrive/바탕 화면/대학교/수업/2024-1/물류관리/Term_project/Modules')\n",
    "from savings.link import Link\n",
    "from savings.node import Node\n",
    "from savings.graph import Graph"
   ]
  },
  {
   "cell_type": "code",
   "execution_count": 5,
   "metadata": {},
   "outputs": [],
   "source": [
    "DEPOT_INDEX = 0\n",
    "COST_TYPE = 'trafast'\n",
    "JSON_PATH = './../Data/routes'\n",
    "mu = 300\n",
    "std = 100\n",
    "\n",
    "node_data = pd.read_csv('./../Data/data.csv')"
   ]
  },
  {
   "cell_type": "code",
   "execution_count": 6,
   "metadata": {},
   "outputs": [],
   "source": [
    "g = Graph()\n",
    "\n",
    "for row in node_data.iterrows():\n",
    "    data = row[1]\n",
    "\n",
    "    # Node의 demand 생성 로직\n",
    "    machine_num = data['machine']\n",
    "    node_demand = 0\n",
    "    # 기기수만큼 정규분포에서 랜덤 샘플링을 진행하여 더해줌\n",
    "    while(machine_num != 0):\n",
    "        node_demand += np.random.normal(mu, std)\n",
    "        machine_num -= 1\n",
    "    node_demand = round(node_demand)\n",
    "    if node_demand < 0:\n",
    "        node_demand = 0\n",
    "\n",
    "    # Node 생성 후 등록\n",
    "    n = Node(data['index'], data['longitude'], data['latitude'], node_demand)\n",
    "    g.add_node(n)\n",
    "\n"
   ]
  },
  {
   "cell_type": "code",
   "execution_count": 7,
   "metadata": {},
   "outputs": [
    {
     "name": "stdout",
     "output_type": "stream",
     "text": [
      "Node 0 (127.6678744, 34.7610282) : Demand 676\n",
      "Node 1 (127.6793937, 34.9374162) : Demand 244\n",
      "Node 2 (127.5852535, 34.976458) : Demand 562\n",
      "Node 3 (127.5822458, 34.9807918) : Demand 317\n",
      "Node 4 (127.58105, 34.9734096) : Demand 449\n",
      "Node 5 (127.7251479, 34.9628515) : Demand 366\n",
      "Node 6 (127.2885331, 35.2861086) : Demand 196\n",
      "Node 7 (126.39205, 34.7909583) : Demand 395\n",
      "Node 8 (127.7220062, 34.9629217) : Demand 131\n",
      "Node 9 (126.779112, 35.0143833) : Demand 345\n",
      "Node 10 (127.692538, 34.9513867) : Demand 578\n",
      "Node 11 (126.3970753, 34.8171651) : Demand 477\n",
      "Node 12 (127.4867548, 34.9676712) : Demand 404\n",
      "Node 13 (127.7027545, 34.7678666) : Demand 385\n",
      "Node 14 (127.7049647, 34.7694184) : Demand 670\n",
      "Node 15 (127.73225, 34.9403013) : Demand 56\n",
      "Node 16 (126.4345523, 34.8042155) : Demand 607\n",
      "Node 17 (126.7719252, 34.6443175) : Demand 255\n",
      "Node 18 (127.725888, 34.741151) : Demand 634\n",
      "Node 19 (127.6510494, 34.7737838) : Demand 571\n",
      "Node 20 (127.1409901, 35.2755645) : Demand 385\n",
      "Node 21 (127.720362, 34.7621065) : Demand 282\n",
      "Node 22 (127.7233578, 34.7285312) : Demand 779\n",
      "Node 23 (127.5095455, 34.9296985) : Demand 554\n",
      "Node 24 (127.5329483, 34.952535) : Demand 961\n",
      "Node 25 (127.5126323, 34.9324912) : Demand 607\n",
      "Node 26 (127.5504523, 34.9367622) : Demand 677\n",
      "Node 27 (126.76538, 34.6372536) : Demand 248\n",
      "Node 28 (127.6630466, 34.7590815) : Demand 464\n",
      "Node 29 (127.6636436, 34.758739) : Demand 118\n",
      "Node 30 (127.5172546, 34.948905) : Demand 473\n",
      "Node 31 (127.766012, 34.7452409) : Demand 217\n",
      "Node 32 (127.4939513, 34.9340963) : Demand 472\n",
      "Node 33 (127.1346664, 35.2762055) : Demand 347\n",
      "Node 34 (127.135625, 35.27375) : Demand 299\n",
      "Node 35 (127.1353118, 35.279445) : Demand 313\n",
      "Node 36 (126.4298585, 34.8101498) : Demand 670\n",
      "Node 37 (126.7416692, 34.3166726) : Demand 685\n",
      "Node 38 (127.6693094, 34.7459462) : Demand 528\n",
      "Node 39 (126.3812722, 34.8116399) : Demand 625\n",
      "Node 40 (126.3803, 34.7834833) : Demand 465\n",
      "Node 41 (127.7363718, 34.7395782) : Demand 424\n",
      "Node 42 (127.4987474, 34.9500639) : Demand 460\n",
      "Node 43 (127.6976665, 34.9410195) : Demand 141\n",
      "Node 44 (127.6372305, 34.7648003) : Demand 578\n",
      "Node 45 (127.3017812, 35.2824748) : Demand 330\n",
      "Node 46 (126.3713966, 34.8083555) : Demand 731\n",
      "Node 47 (126.4330715, 34.7961234) : Demand 818\n",
      "Node 48 (127.4984661, 34.9397909) : Demand 328\n",
      "Node 49 (126.4212084, 34.8082497) : Demand 567\n",
      "Node 50 (127.2905662, 35.2847636) : Demand 199\n",
      "Node 51 (126.7827847, 35.0225396) : Demand 273\n",
      "Node 52 (126.494238, 35.104282) : Demand 364\n",
      "Node 53 (127.7449116, 34.7384063) : Demand 797\n"
     ]
    }
   ],
   "source": [
    "g.print_nodes()"
   ]
  },
  {
   "cell_type": "code",
   "execution_count": 8,
   "metadata": {},
   "outputs": [
    {
     "name": "stderr",
     "output_type": "stream",
     "text": [
      "100%|██████████| 1431/1431 [00:10<00:00, 142.36it/s]\n"
     ]
    }
   ],
   "source": [
    "from itertools import combinations\n",
    "\n",
    "for n1, n2 in tqdm([comb for comb in combinations(g.nodes, 2)]):\n",
    "    if n1.index > n2.index:\n",
    "        temp = n2\n",
    "        n2 = n1\n",
    "        n1 = temp\n",
    "\n",
    "    link_cost = get_cost(n1.index, n2.index, COST_TYPE, JSON_PATH, toll_include=True)\n",
    "    l = Link(n1, n2, link_cost)\n",
    "    g.add_link(l)"
   ]
  },
  {
   "cell_type": "code",
   "execution_count": 9,
   "metadata": {},
   "outputs": [
    {
     "name": "stdout",
     "output_type": "stream",
     "text": [
      "Link (4 - 53) : Cost 4932\n"
     ]
    }
   ],
   "source": [
    "print(g.get_link(53, 4))"
   ]
  },
  {
   "cell_type": "code",
   "execution_count": 11,
   "metadata": {},
   "outputs": [],
   "source": [
    "import pickle\n",
    "with open('./../Data/graph.pkl', 'wb') as file:\n",
    "    pickle.dump(g, file)"
   ]
  },
  {
   "cell_type": "code",
   "execution_count": null,
   "metadata": {},
   "outputs": [],
   "source": []
  },
  {
   "cell_type": "code",
   "execution_count": null,
   "metadata": {},
   "outputs": [],
   "source": []
  },
  {
   "cell_type": "markdown",
   "metadata": {},
   "source": [
    "### node간 cost matrix"
   ]
  },
  {
   "cell_type": "code",
   "execution_count": 108,
   "metadata": {},
   "outputs": [
    {
     "name": "stderr",
     "output_type": "stream",
     "text": [
      "100%|██████████| 53/53 [00:09<00:00,  5.35it/s]\n"
     ]
    }
   ],
   "source": [
    "DEPOT_INDEX = 0\n",
    "COST_TYPE = 'trafast'\n",
    "JSON_PATH = './../Data/routes'\n",
    "\n",
    "node_data = pd.read_csv('./../Data/data.csv')\n",
    "nodes = node_data[node_data['index']!=DEPOT_INDEX]['index'].values\n",
    "\n",
    "# cost_matrix는 실제 node 두 개에 대해서는 유의미한 값, 아닌 node 조합에는 -1을 저장\n",
    "cost_matrix = np.full((max(nodes)+1, max(nodes)+1), -1)\n",
    "\n",
    "for i in tqdm(nodes):\n",
    "    for j in nodes:\n",
    "        if i == j:\n",
    "            cost_matrix[i][i] = 0\n",
    "            continue\n",
    "        elif i > j:\n",
    "            continue\n",
    "        # i < j일 때에만 계산 후 반대쪽에도 채우기\n",
    "        else:\n",
    "            cost_matrix[i][j] = cost_matrix[j][i] = get_cost(i, j, COST_TYPE, JSON_PATH, toll_include=True)"
   ]
  },
  {
   "cell_type": "code",
   "execution_count": 109,
   "metadata": {},
   "outputs": [],
   "source": [
    "# 배열을 파일로 저장\n",
    "np.save('./../Data/cost_matrix.npy', cost_matrix)"
   ]
  },
  {
   "cell_type": "code",
   "execution_count": null,
   "metadata": {},
   "outputs": [],
   "source": []
  }
 ],
 "metadata": {
  "kernelspec": {
   "display_name": "base",
   "language": "python",
   "name": "python3"
  },
  "language_info": {
   "codemirror_mode": {
    "name": "ipython",
    "version": 3
   },
   "file_extension": ".py",
   "mimetype": "text/x-python",
   "name": "python",
   "nbconvert_exporter": "python",
   "pygments_lexer": "ipython3",
   "version": "3.11.5"
  }
 },
 "nbformat": 4,
 "nbformat_minor": 2
}
