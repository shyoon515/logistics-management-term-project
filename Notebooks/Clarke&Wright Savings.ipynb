{
 "cells": [
  {
   "cell_type": "code",
   "execution_count": 1,
   "metadata": {},
   "outputs": [],
   "source": [
    "import sys\n",
    "sys.path.append('C:/Users/james/OneDrive/바탕 화면/대학교/수업/2024-1/물류관리/Term_project/Modules')\n",
    "\n",
    "import pandas as pd\n",
    "import numpy as np\n",
    "from tqdm import tqdm\n",
    "from itertools import combinations\n",
    "import matplotlib.pyplot as plt\n",
    "plt.rcParams['font.family'] ='Malgun Gothic'\n",
    "plt.rcParams['axes.unicode_minus'] =False\n",
    "\n",
    "from utils import *\n",
    "\n",
    "from savings.link import Link\n",
    "from savings.node import Node\n",
    "from savings.graph import Graph\n",
    "from savings.SavingsModel import SavingsModel\n",
    "\n",
    "from savings.SavingsAlgorithm import Clarke_Wright_Savings"
   ]
  },
  {
   "cell_type": "code",
   "execution_count": 2,
   "metadata": {},
   "outputs": [],
   "source": [
    "DEPOT_INDEX = 0\n",
    "ROUTE_TYPE = 'trafast'\n",
    "JSON_PATH = './../Data/routes_with_depot'\n",
    "mu = 650\n",
    "std = 180\n",
    "ub = 800\n",
    "\n",
    "node_data = pd.read_csv('./../Data/data_with_depot.csv')"
   ]
  },
  {
   "cell_type": "code",
   "execution_count": 3,
   "metadata": {},
   "outputs": [
    {
     "name": "stderr",
     "output_type": "stream",
     "text": [
      "  0%|          | 0/2145 [00:00<?, ?it/s]"
     ]
    },
    {
     "name": "stderr",
     "output_type": "stream",
     "text": [
      "100%|██████████| 2145/2145 [00:10<00:00, 201.37it/s]\n"
     ]
    }
   ],
   "source": [
    "# 문제 상황에 대한 Graph 객체 만들기\n",
    "g = Graph()\n",
    "\n",
    "# Node 등록\n",
    "for row in node_data.iterrows():\n",
    "    data = row[1]\n",
    "\n",
    "    # Node의 demand 생성 로직\n",
    "    machine_num = data['machine']\n",
    "    node_demand = 0\n",
    "    # 기기수만큼 정규분포에서 랜덤 샘플링을 진행하여 더해줌\n",
    "    while(machine_num != 0):\n",
    "        node_demand += np.random.normal(mu, std)\n",
    "        machine_num -= 1\n",
    "    node_demand = round(node_demand)\n",
    "    if node_demand < 0:\n",
    "        node_demand = 0\n",
    "    if node_demand > ub*data['machine']:\n",
    "        node_demand = ub*data['machine']\n",
    "    \n",
    "\n",
    "    # Node 생성 후 등록\n",
    "    n = Node(data['index'], data['longitude'], data['latitude'], node_demand)\n",
    "    g.add_node(n)\n",
    "\n",
    "# Link 등록\n",
    "for n1, n2 in tqdm([comb for comb in combinations(g.nodes, 2)]):\n",
    "    if n1.index > n2.index:\n",
    "        temp = n2\n",
    "        n2 = n1\n",
    "        n1 = temp\n",
    "\n",
    "    link_cost, link_time = get_cost_time(n1.index, n2.index, ROUTE_TYPE, JSON_PATH, toll_include=True)\n",
    "    l = Link(n1, n2, link_cost, link_time)\n",
    "    g.add_link(l)\n",
    "\n",
    "# 임시: depot의 demand는 0으로 설정\n",
    "g.get_node(DEPOT_INDEX).demand = 0"
   ]
  },
  {
   "cell_type": "code",
   "execution_count": 4,
   "metadata": {},
   "outputs": [
    {
     "name": "stdout",
     "output_type": "stream",
     "text": [
      "Node 61 (126.8907387, 35.1466012) : Demand 2140\n",
      "Link (4 - 10) : Cost 14685, Time 1H 30M\n"
     ]
    }
   ],
   "source": [
    "print(g.get_node(61))\n",
    "print(g.get_link(4, 10))"
   ]
  },
  {
   "cell_type": "code",
   "execution_count": 19,
   "metadata": {},
   "outputs": [
    {
     "name": "stdout",
     "output_type": "stream",
     "text": [
      "SavingsModel initialized\n",
      "Calculating savings for 65 nodes, \n",
      "[Depot node] Node 0 (127.0742785, 35.01668803) : Demand 0\n"
     ]
    },
    {
     "name": "stderr",
     "output_type": "stream",
     "text": [
      "100%|██████████| 2080/2080 [00:00<00:00, 8994.73it/s] \n"
     ]
    },
    {
     "name": "stdout",
     "output_type": "stream",
     "text": [
      "Iterating through the savings info ...\n"
     ]
    },
    {
     "name": "stderr",
     "output_type": "stream",
     "text": [
      "100%|██████████| 2080/2080 [00:00<00:00, 111657.72it/s]\n"
     ]
    }
   ],
   "source": [
    "DEPOT_INDEX = 0\n",
    "CAPA = 2000\n",
    "JSON_PATH = './../Data/routes_with_depot'\n",
    "\n",
    "svm = SavingsModel(g, DEPOT_INDEX)\n",
    "svm.calculate_savings()\n",
    "svm.apply_algorithm(CAPA, Clarke_Wright_Savings)"
   ]
  },
  {
   "cell_type": "code",
   "execution_count": 20,
   "metadata": {},
   "outputs": [
    {
     "name": "stdout",
     "output_type": "stream",
     "text": [
      "Route : 0 - 8 - 40 - 0\n",
      "Demand met : 1877, Cost : 26355, Time 3H 28M\n",
      "Route : 0 - 17 - 41 - 0\n",
      "Demand met : 1768, Cost : 24960, Time 3H 42M\n",
      "Route : 0 - 18 - 28 - 0\n",
      "Demand met : 1453, Cost : 22956, Time 2H 16M\n",
      "Route : 0 - 22 - 42 - 0\n",
      "Demand met : 1631, Cost : 22724, Time 2H 53M\n",
      "Route : 0 - 15 - 32 - 0\n",
      "Demand met : 1963, Cost : 22922, Time 2H 55M\n",
      "Route : 0 - 30 - 54 - 0\n",
      "Demand met : 1809, Cost : 22229, Time 2H 58M\n",
      "Route : 0 - 14 - 29 - 0\n",
      "Demand met : 1903, Cost : 21109, Time 2H 45M\n",
      "Route : 0 - 6 - 9 - 16 - 0\n",
      "Demand met : 1815, Cost : 18489, Time 2H 21M\n",
      "Route : 0 - 4 - 2 - 44 - 0\n",
      "Demand met : 1856, Cost : 17861, Time 2H 22M\n",
      "Route : 0 - 26 - 43 - 0\n",
      "Demand met : 1366, Cost : 14121, Time 2H 2M\n",
      "Route : 0 - 31 - 49 - 0\n",
      "Demand met : 1983, Cost : 13775, Time 1H 59M\n",
      "Route : 0 - 10 - 12 - 0\n",
      "Demand met : 1814, Cost : 24744, Time 3H 10M\n",
      "Route : 0 - 7 - 51 - 0\n",
      "Demand met : 1443, Cost : 12022, Time 1H 39M\n",
      "Route : 0 - 47 - 52 - 0\n",
      "Demand met : 1942, Cost : 24858, Time 3H 21M\n",
      "Route : 0 - 38 - 53 - 0\n",
      "Demand met : 1893, Cost : 40000, Time 4H 32M\n",
      "Route : 0 - 62 - 55 - 57 - 0\n",
      "Demand met : 1802, Cost : 10654, Time 2H 2M\n",
      "Route : 0 - 21 - 36 - 0\n",
      "Demand met : 1435, Cost : 9335, Time 1H 27M\n",
      "Route : 0 - 34 - 35 - 0\n",
      "Demand met : 1313, Cost : 9100, Time 1H 24M\n",
      "Route : 0 - 60 - 63 - 0\n",
      "Demand met : 1781, Cost : 9073, Time 1H 41M\n",
      "Route : 0 - 58 - 65 - 0\n",
      "Demand met : 1603, Cost : 8973, Time 2H 4M\n",
      "Route : 0 - 20 - 46 - 0\n",
      "Demand met : 1968, Cost : 24531, Time 2H 58M\n",
      "Route : 0 - 13 - 56 - 0\n",
      "Demand met : 1771, Cost : 20063, Time 2H 39M\n",
      "Route : 0 - 1 - 0\n",
      "Demand met : 1385, Cost : 19890, Time 2H 36M\n",
      "Route : 0 - 3 - 0\n",
      "Demand met : 1584, Cost : 14788, Time 1H 44M\n",
      "Route : 0 - 5 - 0\n",
      "Demand met : 1383, Cost : 14896, Time 1H 48M\n",
      "Route : 0 - 11 - 0\n",
      "Demand met : 1367, Cost : 16796, Time 1H 58M\n",
      "Route : 0 - 19 - 0\n",
      "Demand met : 1600, Cost : 22532, Time 2H 47M\n",
      "Route : 0 - 23 - 0\n",
      "Demand met : 1600, Cost : 23180, Time 2H 43M\n",
      "Route : 0 - 24 - 0\n",
      "Demand met : 1434, Cost : 13908, Time 1H 56M\n",
      "Route : 0 - 25 - 0\n",
      "Demand met : 1418, Cost : 13426, Time 1H 41M\n",
      "Route : 0 - 27 - 0\n",
      "Demand met : 1600, Cost : 14082, Time 1H 48M\n",
      "Route : 0 - 33 - 0\n",
      "Demand met : 1499, Cost : 13434, Time 1H 55M\n",
      "Route : 0 - 37 - 0\n",
      "Demand met : 1352, Cost : 21524, Time 2H 59M\n",
      "Route : 0 - 39 - 0\n",
      "Demand met : 1600, Cost : 20644, Time 2H 48M\n",
      "Route : 0 - 45 - 0\n",
      "Demand met : 1383, Cost : 19590, Time 2H 26M\n",
      "Route : 0 - 48 - 0\n",
      "Demand met : 1408, Cost : 22004, Time 3H 19M\n",
      "Route : 0 - 50 - 0\n",
      "Demand met : 1227, Cost : 21782, Time 3H 9M\n",
      "Route : 0 - 59 - 0\n",
      "Demand met : 1915, Cost : 6888, Time 1H 19M\n",
      "Route : 0 - 61 - 0\n",
      "Demand met : 2140, Cost : 7692, Time 1H 41M\n",
      "Route : 0 - 64 - 0\n",
      "Demand met : 1235, Cost : 7030, Time 1H 17M\n",
      "\n",
      "최대 적재량 2,000개\n",
      "운송비 714,940원\n",
      "총 수거량 65,319개\n",
      "기기 분포 ~ N(650, 180)\n"
     ]
    }
   ],
   "source": [
    "for r in svm.routes:\n",
    "    print(r)\n",
    "\n",
    "print(f'\\n최대 적재량 {CAPA:,}개\\n운송비 {svm.cost:,}원\\n총 수거량 {svm.demand:,}개\\n기기 분포 ~ N({mu}, {std})')"
   ]
  },
  {
   "cell_type": "code",
   "execution_count": 21,
   "metadata": {},
   "outputs": [
    {
     "ename": "IndexError",
     "evalue": "list index out of range",
     "output_type": "error",
     "traceback": [
      "\u001b[1;31m---------------------------------------------------------------------------\u001b[0m",
      "\u001b[1;31mIndexError\u001b[0m                                Traceback (most recent call last)",
      "Cell \u001b[1;32mIn[21], line 26\u001b[0m\n\u001b[0;32m     24\u001b[0m \u001b[38;5;66;03m# 각 route를 visualize\u001b[39;00m\n\u001b[0;32m     25\u001b[0m \u001b[38;5;28;01mfor\u001b[39;00m i, route \u001b[38;5;129;01min\u001b[39;00m \u001b[38;5;28menumerate\u001b[39m(svm\u001b[38;5;241m.\u001b[39mroutes):\n\u001b[1;32m---> 26\u001b[0m     route\u001b[38;5;241m.\u001b[39mvisualize(ax, JSON_PATH, route_option\u001b[38;5;241m=\u001b[39m\u001b[38;5;124m'\u001b[39m\u001b[38;5;124mtrafast\u001b[39m\u001b[38;5;124m'\u001b[39m, update_sec \u001b[38;5;241m=\u001b[39m \u001b[38;5;241m0.05\u001b[39m, color \u001b[38;5;241m=\u001b[39m color_pallete[i])\n",
      "\u001b[1;31mIndexError\u001b[0m: list index out of range"
     ]
    },
    {
     "data": {
      "image/png": "[encoded data removed]",
      "text/plain": [
       "<Figure size 600x417.077 with 1 Axes>"
      ]
     },
     "metadata": {},
     "output_type": "display_data"
    }
   ],
   "source": [
    "# figsize 비율 계산\n",
    "ratio = (node_data.latitude.max() - node_data.latitude.min()) / (node_data.longitude.max() - node_data.longitude.min())\n",
    "scale = 6\n",
    "\n",
    "# fig, ax 객체 생성\n",
    "fig, ax = plt.subplots(figsize=(scale, scale * ratio))\n",
    "\n",
    "# 차량의 color 팔레트 지정\n",
    "color_pallete = ['green', 'orange', 'black', 'purple', 'olive', 'gray', 'skyblue']\n",
    "\n",
    "# 데이터 플롯\n",
    "ax.scatter(node_data['longitude'], node_data['latitude'], s=1.8, c='blue', label='Machine')\n",
    "ax.scatter(svm.depot.x, svm.depot.y, s=10, c='red', label='Hub', marker='*')\n",
    "\n",
    "# 축 레이블, 제목 및 범례 설정\n",
    "ax.set_xlabel('Longitude')\n",
    "ax.set_ylabel('Latitude')\n",
    "ax.set_title('[전남/광주 지역 기기 순회 시각화]', fontsize=12)\n",
    "ax.grid()\n",
    "\n",
    "# 그래프를 보여줍니다.\n",
    "ax.legend(loc='lower right')\n",
    "\n",
    "# 각 route를 visualize\n",
    "for i, route in enumerate(svm.routes):\n",
    "    route.visualize(ax, JSON_PATH, route_option='trafast', update_sec = 0.05, color = color_pallete[i])"
   ]
  },
  {
   "cell_type": "code",
   "execution_count": null,
   "metadata": {},
   "outputs": [],
   "source": []
  }
 ],
 "metadata": {
  "kernelspec": {
   "display_name": "base",
   "language": "python",
   "name": "python3"
  },
  "language_info": {
   "codemirror_mode": {
    "name": "ipython",
    "version": 3
   },
   "file_extension": ".py",
   "mimetype": "text/x-python",
   "name": "python",
   "nbconvert_exporter": "python",
   "pygments_lexer": "ipython3",
   "version": "3.11.5"
  }
 },
 "nbformat": 4,
 "nbformat_minor": 2
}
