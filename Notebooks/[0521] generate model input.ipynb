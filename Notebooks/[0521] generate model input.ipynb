{
 "cells": [
  {
   "cell_type": "code",
   "execution_count": 97,
   "metadata": {},
   "outputs": [],
   "source": [
    "import pandas as pd\n",
    "import numpy as np\n",
    "from tqdm import tqdm"
   ]
  },
  {
   "cell_type": "code",
   "execution_count": 9,
   "metadata": {},
   "outputs": [],
   "source": [
    "import json"
   ]
  },
  {
   "cell_type": "markdown",
   "metadata": {},
   "source": [
    "### Utility 함수들"
   ]
  },
  {
   "cell_type": "code",
   "execution_count": 18,
   "metadata": {},
   "outputs": [],
   "source": [
    "# utility functions\n",
    "\n",
    "import json\n",
    "def get_cost(index1, index2, cost_type, json_path, toll_include=True):\n",
    "    \"\"\"\n",
    "    index1, index2와 cost_type을 지정해주면 json 파일을 파싱하여 비용을 반환\n",
    "    \"\"\"\n",
    "\n",
    "    # 출발지와 도착지가 같은 경우 0 반환\n",
    "    if index1 == index2:\n",
    "        return 0\n",
    "    else:\n",
    "        from_idx = min(index1, index2)\n",
    "        to_idx = max(index1, index2)\n",
    "\n",
    "        # 마지막에 /가 없으면 붙이기\n",
    "        if json_path[-1] != '/':\n",
    "            json_path += '/'\n",
    "        json_path = json_path + f'route_{from_idx}_{to_idx}.json'\n",
    "        \n",
    "        try:\n",
    "            with open(json_path, 'r') as file:\n",
    "                data = json.load(file)\n",
    "        except:\n",
    "            print(f\"{json_path} 파일을 읽을 수 없음\")\n",
    "            raise ValueError()\n",
    "        \n",
    "        try:\n",
    "            tollFare = 0 if toll_include else data['route'][cost_type][0]['summary']['tollFare']\n",
    "            feulPrice = data['route'][cost_type][0]['summary']['fuelPrice']\n",
    "            return tollFare+feulPrice\n",
    "        except:\n",
    "            print(f\"{json_path} 파일의 tollFare와 fuelPrice 파싱 불가\")\n",
    "            raise ValueError()"
   ]
  },
  {
   "cell_type": "markdown",
   "metadata": {},
   "source": [
    "### 수요 및 각 node와 depot의 cost"
   ]
  },
  {
   "cell_type": "code",
   "execution_count": 38,
   "metadata": {},
   "outputs": [],
   "source": [
    "DEPOT_INDEX = 0\n",
    "COST_TYPE = 'trafast'\n",
    "mu = 300\n",
    "std = 100\n",
    "\n",
    "node_data = pd.read_csv('./../Data/data.csv')\n",
    "\n",
    "# 데이터프레임 생성\n",
    "node_demands = pd.DataFrame(columns=['node'], data=node_data[node_data['index'] != DEPOT_INDEX]['index'].values)\n",
    "\n",
    "# 각 node에서의 수요(필요에 따라 코드 수정)\n",
    "node_demands['demand'] = None\n",
    "for node in node_demands['node']:\n",
    "    machine_num = node_data.loc[node_data['index']==node, 'machine'].values[0]\n",
    "\n",
    "    node_demand = 0\n",
    "\n",
    "    # 기기수만큼 정규분포에서 랜덤 샘플링을 진행하여 더해줌\n",
    "    while(machine_num != 0):\n",
    "        node_demand += np.random.normal(mu, std)\n",
    "        machine_num -= 1\n",
    "\n",
    "    node_demand = round(node_demand)\n",
    "    if node_demand < 0:\n",
    "        node_demand = 0\n",
    "    node_demands.loc[node_demands['node'] == node, 'demand'] = node_demand\n",
    "\n",
    "# node와 depot의 cost\n",
    "node_demands['depot_node_cost'] = node_demands['node'].apply(lambda x : get_cost(DEPOT_INDEX, x, COST_TYPE, './../Data/routes', toll_include=True))"
   ]
  },
  {
   "cell_type": "code",
   "execution_count": 41,
   "metadata": {},
   "outputs": [],
   "source": [
    "node_demands.to_csv('./../Data/node_demand.csv', index=False)"
   ]
  },
  {
   "cell_type": "markdown",
   "metadata": {},
   "source": [
    "### node간 cost matrix"
   ]
  },
  {
   "cell_type": "code",
   "execution_count": 108,
   "metadata": {},
   "outputs": [
    {
     "name": "stderr",
     "output_type": "stream",
     "text": [
      "100%|██████████| 53/53 [00:09<00:00,  5.35it/s]\n"
     ]
    }
   ],
   "source": [
    "DEPOT_INDEX = 0\n",
    "COST_TYPE = 'trafast'\n",
    "JSON_PATH = './../Data/routes'\n",
    "\n",
    "node_data = pd.read_csv('./../Data/data.csv')\n",
    "nodes = node_data[node_data['index']!=DEPOT_INDEX]['index'].values\n",
    "\n",
    "# cost_matrix는 실제 node 두 개에 대해서는 유의미한 값, 아닌 node 조합에는 -1을 저장\n",
    "cost_matrix = np.full((max(nodes)+1, max(nodes)+1), -1)\n",
    "\n",
    "for i in tqdm(nodes):\n",
    "    for j in nodes:\n",
    "        if i == j:\n",
    "            cost_matrix[i][i] = 0\n",
    "            continue\n",
    "        elif i > j:\n",
    "            continue\n",
    "        # i < j일 때에만 계산 후 반대쪽에도 채우기\n",
    "        else:\n",
    "            cost_matrix[i][j] = cost_matrix[j][i] = get_cost(i, j, COST_TYPE, JSON_PATH, toll_include=True)"
   ]
  },
  {
   "cell_type": "code",
   "execution_count": 109,
   "metadata": {},
   "outputs": [],
   "source": [
    "# 배열을 파일로 저장\n",
    "np.save('./../Data/cost_matrix.npy', cost_matrix)"
   ]
  },
  {
   "cell_type": "code",
   "execution_count": null,
   "metadata": {},
   "outputs": [],
   "source": []
  }
 ],
 "metadata": {
  "kernelspec": {
   "display_name": "base",
   "language": "python",
   "name": "python3"
  },
  "language_info": {
   "codemirror_mode": {
    "name": "ipython",
    "version": 3
   },
   "file_extension": ".py",
   "mimetype": "text/x-python",
   "name": "python",
   "nbconvert_exporter": "python",
   "pygments_lexer": "ipython3",
   "version": "3.11.5"
  }
 },
 "nbformat": 4,
 "nbformat_minor": 2
}
