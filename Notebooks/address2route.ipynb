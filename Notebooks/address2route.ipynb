{
 "cells": [
  {
   "cell_type": "code",
   "execution_count": 50,
   "metadata": {},
   "outputs": [],
   "source": [
    "import pandas as pd\n",
    "import matplotlib.pyplot as plt\n",
    "from tqdm import tqdm\n",
    "from itertools import combinations\n",
    "plt.rcParams['font.family'] ='Malgun Gothic'\n",
    "plt.rcParams['axes.unicode_minus'] =False"
   ]
  },
  {
   "cell_type": "code",
   "execution_count": 5,
   "metadata": {},
   "outputs": [],
   "source": [
    "import sys\n",
    "sys.path.append('./../Modules')\n",
    "from naver_map_api import *\n",
    "\n",
    "df = pd.read_csv('./../Data/data.csv')\n",
    "# API 키 로드\n",
    "CLIENT_ID, CLIENT_SECRET = load_api_keys('./../config.json')"
   ]
  },
  {
   "cell_type": "code",
   "execution_count": 62,
   "metadata": {},
   "outputs": [
    {
     "name": "stderr",
     "output_type": "stream",
     "text": [
      "  5%|▌         | 76/1431 [00:29<21:25,  1.05it/s]"
     ]
    },
    {
     "name": "stdout",
     "output_type": "stream",
     "text": [
      "Route 1 - 23, error occurred\n"
     ]
    },
    {
     "name": "stderr",
     "output_type": "stream",
     "text": [
      " 53%|█████▎    | 763/1431 [05:23<09:53,  1.13it/s]"
     ]
    },
    {
     "name": "stdout",
     "output_type": "stream",
     "text": [
      "Route 16 - 51, error occurred\n"
     ]
    },
    {
     "name": "stderr",
     "output_type": "stream",
     "text": [
      " 69%|██████▊   | 983/1431 [06:52<05:57,  1.25it/s]"
     ]
    },
    {
     "name": "stdout",
     "output_type": "stream",
     "text": [
      "Route 23 - 40, error occurred\n"
     ]
    },
    {
     "name": "stderr",
     "output_type": "stream",
     "text": [
      "100%|██████████| 1431/1431 [10:18<00:00,  2.31it/s]\n"
     ]
    }
   ],
   "source": [
    "import json\n",
    "\n",
    "option = 'traoptimal:trafast:traavoidtoll'\n",
    "\n",
    "index_values = df['index'].tolist()\n",
    "comb = list(combinations(index_values, 2))\n",
    "error_routes = []\n",
    "for start_idx, goal_idx in tqdm(comb):\n",
    "    start = tuple(df.loc[(df.index==start_idx), ['longitude','latitude']].values[0])\n",
    "    goal = tuple(df.loc[(df.index==goal_idx), ['longitude','latitude']].values[0])\n",
    "    try:\n",
    "        result = get_optimal_route(start, goal, CLIENT_ID, CLIENT_SECRET, option)\n",
    "        with open(f'./../Data/routes/route_{start_idx}_{goal_idx}.json', 'w') as file:\n",
    "            json.dump(result, file, indent=4)\n",
    "    except:\n",
    "        print(f'Route {start_idx} - {goal_idx}, error occurred')\n",
    "        error_routes.append((start_idx, goal_idx))"
   ]
  },
  {
   "cell_type": "code",
   "execution_count": 64,
   "metadata": {},
   "outputs": [],
   "source": [
    "# 1-23 루트\n",
    "start = tuple(df.loc[(df.index==1), ['longitude','latitude']].values[0])\n",
    "goal = tuple(df.loc[(df.index==23), ['longitude','latitude']].values[0])\n",
    "result = get_optimal_route(start, goal, CLIENT_ID, CLIENT_SECRET, option)"
   ]
  },
  {
   "cell_type": "code",
   "execution_count": 66,
   "metadata": {},
   "outputs": [],
   "source": [
    "with open('./../Data/routes/route_1_23.json', 'w') as file:\n",
    "    json.dump(result, file, indent=4)"
   ]
  },
  {
   "cell_type": "code",
   "execution_count": 69,
   "metadata": {},
   "outputs": [],
   "source": [
    "# 16-51루트\n",
    "start = tuple(df.loc[(df.index==16), ['longitude','latitude']].values[0])\n",
    "goal = tuple(df.loc[(df.index==51), ['longitude','latitude']].values[0])\n",
    "result = get_optimal_route(start, goal, CLIENT_ID, CLIENT_SECRET, option)"
   ]
  },
  {
   "cell_type": "code",
   "execution_count": 71,
   "metadata": {},
   "outputs": [],
   "source": [
    "with open('./../Data/routes/route_16_51.json', 'w') as file:\n",
    "    json.dump(result, file, indent=4)"
   ]
  },
  {
   "cell_type": "code",
   "execution_count": 72,
   "metadata": {},
   "outputs": [],
   "source": [
    "# 23-40루트\n",
    "start = tuple(df.loc[(df.index==23), ['longitude','latitude']].values[0])\n",
    "goal = tuple(df.loc[(df.index==40), ['longitude','latitude']].values[0])\n",
    "result = get_optimal_route(start, goal, CLIENT_ID, CLIENT_SECRET, option)"
   ]
  },
  {
   "cell_type": "code",
   "execution_count": 74,
   "metadata": {},
   "outputs": [],
   "source": [
    "with open('./../Data/routes/route_23_40.json', 'w') as file:\n",
    "    json.dump(result, file, indent=4)"
   ]
  },
  {
   "cell_type": "code",
   "execution_count": null,
   "metadata": {},
   "outputs": [],
   "source": []
  }
 ],
 "metadata": {
  "kernelspec": {
   "display_name": "base",
   "language": "python",
   "name": "python3"
  },
  "language_info": {
   "codemirror_mode": {
    "name": "ipython",
    "version": 3
   },
   "file_extension": ".py",
   "mimetype": "text/x-python",
   "name": "python",
   "nbconvert_exporter": "python",
   "pygments_lexer": "ipython3",
   "version": "3.11.5"
  }
 },
 "nbformat": 4,
 "nbformat_minor": 2
}
