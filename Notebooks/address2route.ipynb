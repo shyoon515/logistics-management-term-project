{
 "cells": [
  {
   "cell_type": "code",
   "execution_count": 8,
   "metadata": {},
   "outputs": [],
   "source": [
    "import pandas as pd\n",
    "import matplotlib.pyplot as plt\n",
    "from tqdm import tqdm\n",
    "from itertools import combinations\n",
    "import os\n",
    "plt.rcParams['font.family'] ='Malgun Gothic'\n",
    "plt.rcParams['axes.unicode_minus'] =False"
   ]
  },
  {
   "cell_type": "code",
   "execution_count": 9,
   "metadata": {},
   "outputs": [],
   "source": [
    "import sys\n",
    "sys.path.append('./../Modules')\n",
    "from naver_map_api import *\n",
    "\n",
    "df = pd.read_csv('./../Data/data_with_depot.csv')\n",
    "# API 키 로드\n",
    "CLIENT_ID, CLIENT_SECRET = load_api_keys('./../config.json')"
   ]
  },
  {
   "cell_type": "code",
   "execution_count": 10,
   "metadata": {},
   "outputs": [],
   "source": [
    "import json\n",
    "\n",
    "option = 'traoptimal:trafast:traavoidtoll'\n",
    "\n",
    "index_values = df['index'].tolist()\n",
    "comb = list(combinations(index_values, 2))"
   ]
  },
  {
   "cell_type": "code",
   "execution_count": 11,
   "metadata": {},
   "outputs": [
    {
     "name": "stderr",
     "output_type": "stream",
     "text": [
      "100%|██████████| 2145/2145 [04:57<00:00,  7.21it/s] \n"
     ]
    }
   ],
   "source": [
    "error_routes = []\n",
    "\n",
    "all_jsons = os.listdir('./../Data/routes_with_depot')\n",
    "file_names = [f for f in all_jsons]\n",
    "for start_idx, goal_idx in tqdm(comb):\n",
    "    # 이미 존재하는 file에 대하여 skip\n",
    "    if f'route_{start_idx}_{goal_idx}.json' in file_names:\n",
    "        continue\n",
    "    else:\n",
    "        start = tuple(df.loc[(df.index==start_idx), ['longitude','latitude']].values[0])\n",
    "        goal = tuple(df.loc[(df.index==goal_idx), ['longitude','latitude']].values[0])\n",
    "        try:\n",
    "            result = get_optimal_route(start, goal, CLIENT_ID, CLIENT_SECRET, option)\n",
    "            with open(f'./../Data/routes_with_depot/route_{start_idx}_{goal_idx}.json', 'w') as file:\n",
    "                json.dump(result, file, indent=4)\n",
    "        except:\n",
    "            print(f'Route {start_idx} - {goal_idx}, error occurred')\n",
    "            error_routes.append((start_idx, goal_idx))"
   ]
  },
  {
   "cell_type": "code",
   "execution_count": 64,
   "metadata": {},
   "outputs": [],
   "source": [
    "# 1-23 루트\n",
    "start = tuple(df.loc[(df.index==1), ['longitude','latitude']].values[0])\n",
    "goal = tuple(df.loc[(df.index==23), ['longitude','latitude']].values[0])\n",
    "result = get_optimal_route(start, goal, CLIENT_ID, CLIENT_SECRET, option)\n",
    "with open('./../Data/routes/route_1_23.json', 'w') as file:\n",
    "    json.dump(result, file, indent=4)"
   ]
  }
 ],
 "metadata": {
  "kernelspec": {
   "display_name": "base",
   "language": "python",
   "name": "python3"
  },
  "language_info": {
   "codemirror_mode": {
    "name": "ipython",
    "version": 3
   },
   "file_extension": ".py",
   "mimetype": "text/x-python",
   "name": "python",
   "nbconvert_exporter": "python",
   "pygments_lexer": "ipython3",
   "version": "3.11.5"
  }
 },
 "nbformat": 4,
 "nbformat_minor": 2
}
