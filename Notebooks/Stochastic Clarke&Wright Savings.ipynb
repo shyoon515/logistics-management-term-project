{
 "cells": [
  {
   "cell_type": "code",
   "execution_count": 1,
   "metadata": {},
   "outputs": [],
   "source": [
    "import sys\n",
    "sys.path.append('C:/Users/james/OneDrive/바탕 화면/대학교/수업/2024-1/물류관리/Term_project/Modules')\n",
    "\n",
    "import pandas as pd\n",
    "import numpy as np\n",
    "from tqdm import tqdm\n",
    "from itertools import combinations\n",
    "import matplotlib.pyplot as plt\n",
    "plt.rcParams['font.family'] ='Malgun Gothic'\n",
    "plt.rcParams['axes.unicode_minus'] =False\n",
    "\n",
    "from utils import *\n",
    "\n",
    "from savings.link import Link\n",
    "from savings.node import Node\n",
    "from savings.graph import Graph\n",
    "from savings.SavingsModel import SavingsModel\n",
    "\n",
    "from savings.SavingsAlgorithm import Clarke_Wright_Savings"
   ]
  },
  {
   "cell_type": "code",
   "execution_count": 2,
   "metadata": {},
   "outputs": [],
   "source": [
    "DEPOT_INDEX = 0 # 창고의 data상 index\n",
    "DEMAND_CV = 0 # 수요 발생의 변동계수(CV)값 설정\n",
    "DEMAND_COEFFICIENT = 1 # 수요 발생량에 대해 적절히 곱해주기 위함\n",
    "ROUTE_TYPE = 'trafast' # route 탐색 방식\n",
    "JSON_PATH = './../Data/routes_with_depot' # JSON 파일들이 있는 폴더 경로\n",
    "TRUCK_CAPA = 11560 # 한 트럭이 실을 수 있는 적재 capacity (L)\n",
    "MAX_TIME = 8 * 60 * 60 * 1000 # ms 단위\n",
    "SERVICE_TIME = 2*60*1000 # ms 단위\n",
    "\n",
    "node_data = pd.read_csv('./../Data/data_with_depot.csv')"
   ]
  },
  {
   "cell_type": "code",
   "execution_count": 3,
   "metadata": {},
   "outputs": [
    {
     "name": "stderr",
     "output_type": "stream",
     "text": [
      "  0%|          | 0/2145 [00:00<?, ?it/s]"
     ]
    },
    {
     "name": "stderr",
     "output_type": "stream",
     "text": [
      "100%|██████████| 2145/2145 [00:11<00:00, 181.34it/s]\n"
     ]
    }
   ],
   "source": [
    "# 문제 상황에 대한 Graph 객체 만들기\n",
    "g = Graph()\n",
    "\n",
    "# Node 등록\n",
    "for row in node_data.iterrows():\n",
    "    data = row[1]\n",
    "\n",
    "    # Node 생성 후 등록\n",
    "    n = Node(data['index'], data['longitude'], data['latitude'])\n",
    "    n.generate_demand(data['demand_mu']*DEMAND_COEFFICIENT, data['capacity'], DEMAND_CV)\n",
    "    g.add_node(n)\n",
    "\n",
    "# Link 등록\n",
    "for n1, n2 in tqdm([comb for comb in combinations(g.nodes, 2)]):\n",
    "    if n1.index > n2.index:\n",
    "        temp = n2\n",
    "        n2 = n1\n",
    "        n1 = temp\n",
    "\n",
    "    link_cost, link_time = get_cost_time(n1.index, n2.index, ROUTE_TYPE, JSON_PATH, toll_include=True)\n",
    "    l = Link(n1, n2, link_cost, link_time)\n",
    "    g.add_link(l)\n",
    "\n",
    "# 임시: depot의 demand는 0으로 설정\n",
    "g.get_node(DEPOT_INDEX).demand = 0"
   ]
  },
  {
   "cell_type": "code",
   "execution_count": 8,
   "metadata": {},
   "outputs": [
    {
     "name": "stdout",
     "output_type": "stream",
     "text": [
      "[Clarke_Wright_Saving의 Cost]\n",
      "연간 운송비: 61,617,475원\n",
      "연간 인건비: 140,000,000원\n",
      "연간 총 비용: 201,617,475원\n"
     ]
    },
    {
     "name": "stderr",
     "output_type": "stream",
     "text": [
      " 27%|██▋       | 27/100 [00:34<01:33,  1.28s/it]"
     ]
    },
    {
     "name": "stdout",
     "output_type": "stream",
     "text": [
      "better solution found\n",
      "Better Cost : 201,564,185\n"
     ]
    },
    {
     "name": "stderr",
     "output_type": "stream",
     "text": [
      " 30%|███       | 30/100 [00:38<01:33,  1.34s/it]"
     ]
    },
    {
     "name": "stdout",
     "output_type": "stream",
     "text": [
      "better solution found\n",
      "Better Cost : 200,751,330\n"
     ]
    },
    {
     "name": "stderr",
     "output_type": "stream",
     "text": [
      " 82%|████████▏ | 82/100 [01:41<00:26,  1.45s/it]"
     ]
    },
    {
     "name": "stdout",
     "output_type": "stream",
     "text": [
      "better solution found\n",
      "Better Cost : 200,710,085\n"
     ]
    },
    {
     "name": "stderr",
     "output_type": "stream",
     "text": [
      " 91%|█████████ | 91/100 [01:49<00:08,  1.07it/s]"
     ]
    },
    {
     "name": "stdout",
     "output_type": "stream",
     "text": [
      "better solution found\n",
      "Better Cost : 196,924,670\n"
     ]
    },
    {
     "name": "stderr",
     "output_type": "stream",
     "text": [
      "100%|██████████| 100/100 [01:59<00:00,  1.20s/it]"
     ]
    },
    {
     "name": "stdout",
     "output_type": "stream",
     "text": [
      "\n",
      "[Total Saved from stochastic C&W method]\n",
      "4,692,805원\n"
     ]
    },
    {
     "name": "stderr",
     "output_type": "stream",
     "text": [
      "\n"
     ]
    }
   ],
   "source": [
    "# saving 모델 정의 및 돌리기\n",
    "svm = SavingsModel(g, DEPOT_INDEX)\n",
    "svm.calculate_savings()\n",
    "svm.apply_algorithm(TRUCK_CAPA, Clarke_Wright_Savings, MAX_TIME, SERVICE_TIME, stochastic_drop=0)\n",
    "\n",
    "print('[Clarke_Wright_Saving의 Cost]')\n",
    "lowest = svm.yearly_cost(MAX_TIME, fixed=int(35000000), verbose=False)\n",
    "lowest_svm = None\n",
    "\n",
    "for i in tqdm(range(100)):\n",
    "    stochastic_svm = SavingsModel(g, DEPOT_INDEX)\n",
    "    stochastic_svm.calculate_savings()\n",
    "    stochastic_svm.apply_algorithm(TRUCK_CAPA, Clarke_Wright_Savings, MAX_TIME, SERVICE_TIME, stochastic_drop=0.05)\n",
    "    sto_cost = stochastic_svm.yearly_cost(MAX_TIME, fixed=int(35000000), verbose=True)\n",
    "    if lowest > sto_cost:\n",
    "        lowest = sto_cost\n",
    "        lowest_svm = stochastic_svm\n",
    "        print('better solution found')\n",
    "        print(f'Better Cost : {sto_cost:,}')\n",
    "\n",
    "print('\\n[Total Saved from stochastic C&W method]')\n",
    "print(f'{svm.yearly_cost(MAX_TIME, fixed=int(35000000), verbose=True)-lowest:,}원')"
   ]
  },
  {
   "cell_type": "code",
   "execution_count": 12,
   "metadata": {},
   "outputs": [
    {
     "name": "stdout",
     "output_type": "stream",
     "text": [
      "Route : 0 - 53 - 50 - 12 - 8 - 41 - 47 - 40 - 17 - 48 - 37 - 10 - 52 - 0\n",
      "Demand met : 686.5508541700001, Cost : 28269, Time 5H 9M\n",
      "\n",
      "\n",
      "Route : 0 - 49 - 43 - 26 - 27 - 20 - 30 - 29 - 22 - 39 - 32 - 54 - 23 - 42 - 19 - 14 - 15 - 1 - 45 - 24 - 33 - 13 - 0\n",
      "Demand met : 919.9831157909999, Cost : 26019, Time 5H 26M\n",
      "\n",
      "\n",
      "Route : 0 - 18 - 28 - 38 - 0\n",
      "Demand met : 214.12342718, Cost : 34230, Time 3H 52M\n",
      "Route : 0 - 31 - 25 - 4 - 5 - 3 - 0\n",
      "Demand met : 444.73777575, Cost : 15437, Time 2H 18M\n",
      "Route : 0 - 46 - 7 - 51 - 0\n",
      "Demand met : 22.510921447999998, Cost : 12210, Time 1H 42M\n",
      "\n",
      "\n",
      "Route : 0 - 11 - 6 - 9 - 16 - 44 - 2 - 0\n",
      "Demand met : 370.598431744, Cost : 18946, Time 2H 38M\n",
      "Route : 0 - 59 - 64 - 61 - 65 - 58 - 55 - 57 - 60 - 63 - 62 - 56 - 0\n",
      "Demand met : 2242.0504826, Cost : 11492, Time 3H 41M\n",
      "Route : 0 - 35 - 21 - 36 - 34 - 0\n",
      "Demand met : 16.970410184, Cost : 9355, Time 1H 29M\n",
      "\n",
      "\n",
      "최대 적재량 11,560L\n",
      "운송비 155,958원\n",
      "총 수거 4,918L\n",
      "연간 운송비: 56,924,670원\n",
      "연간 인건비: 140,000,000원\n",
      "연간 총 비용: 196,924,670원\n"
     ]
    },
    {
     "data": {
      "text/plain": [
       "196924670"
      ]
     },
     "execution_count": 12,
     "metadata": {},
     "output_type": "execute_result"
    }
   ],
   "source": [
    "for rs in lowest_svm.merged_routes:\n",
    "    for r in rs:\n",
    "        print(r)\n",
    "    print('\\n')\n",
    "\n",
    "print(f'최대 적재량 {TRUCK_CAPA:,}L\\n운송비 {lowest_svm.cost:,}원\\n총 수거 {round(lowest_svm.demand):,}L')\n",
    "lowest_svm.yearly_cost(MAX_TIME, fixed=int(35000000), verbose=False)"
   ]
  },
  {
   "cell_type": "code",
   "execution_count": 13,
   "metadata": {},
   "outputs": [
    {
     "data": {
      "image/png": "[encoded data removed]",
      "text/plain": [
       "<Figure size 600x417.077 with 1 Axes>"
      ]
     },
     "metadata": {},
     "output_type": "display_data"
    }
   ],
   "source": [
    "# figsize 비율 계산\n",
    "ratio = (node_data.latitude.max() - node_data.latitude.min()) / (node_data.longitude.max() - node_data.longitude.min())\n",
    "scale = 6\n",
    "\n",
    "# fig, ax 객체 생성\n",
    "fig, ax = plt.subplots(figsize=(scale, scale * ratio))\n",
    "\n",
    "# 차량의 color 팔레트 지정\n",
    "color_pallete = ['green', 'orange', 'black', 'purple', 'olive', 'gray', 'skyblue', 'green', 'orange', 'black', 'purple', 'olive', 'gray', 'skyblue']\n",
    "\n",
    "# 데이터 플롯\n",
    "ax.scatter(node_data['longitude'], node_data['latitude'], s=1.8, c='blue', label='Machine')\n",
    "ax.scatter(svm.depot.x, svm.depot.y, s=10, c='red', label='Hub', marker='*')\n",
    "\n",
    "# 축 레이블, 제목 및 범례 설정\n",
    "ax.set_xlabel('Longitude')\n",
    "ax.set_ylabel('Latitude')\n",
    "ax.set_title('[전남/광주 지역 기기 순회 시각화]', fontsize=12)\n",
    "ax.grid()\n",
    "\n",
    "# 그래프를 보여줍니다.\n",
    "ax.legend(loc='lower right')\n",
    "\n",
    "# 각 route를 visualize\n",
    "for i, m_routes in enumerate(svm.merged_routes):\n",
    "    for route in m_routes:\n",
    "        route.visualize(ax, JSON_PATH, route_option='trafast', update_sec = 0.05, color = color_pallete[i])"
   ]
  },
  {
   "cell_type": "code",
   "execution_count": 7,
   "metadata": {},
   "outputs": [],
   "source": [
    "import more_itertools"
   ]
  },
  {
   "cell_type": "code",
   "execution_count": 8,
   "metadata": {},
   "outputs": [],
   "source": []
  },
  {
   "cell_type": "code",
   "execution_count": null,
   "metadata": {},
   "outputs": [],
   "source": []
  }
 ],
 "metadata": {
  "kernelspec": {
   "display_name": "base",
   "language": "python",
   "name": "python3"
  },
  "language_info": {
   "codemirror_mode": {
    "name": "ipython",
    "version": 3
   },
   "file_extension": ".py",
   "mimetype": "text/x-python",
   "name": "python",
   "nbconvert_exporter": "python",
   "pygments_lexer": "ipython3",
   "version": "3.11.5"
  }
 },
 "nbformat": 4,
 "nbformat_minor": 2
}
