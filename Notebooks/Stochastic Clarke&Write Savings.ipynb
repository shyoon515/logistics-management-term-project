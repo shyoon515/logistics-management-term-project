{
 "cells": [
  {
   "cell_type": "code",
   "execution_count": 1,
   "metadata": {},
   "outputs": [],
   "source": [
    "import sys\n",
    "sys.path.append('C:/Users/james/OneDrive/바탕 화면/대학교/수업/2024-1/물류관리/Term_project/Modules')\n",
    "\n",
    "import pandas as pd\n",
    "import numpy as np\n",
    "from tqdm import tqdm\n",
    "from itertools import combinations\n",
    "import matplotlib.pyplot as plt\n",
    "plt.rcParams['font.family'] ='Malgun Gothic'\n",
    "plt.rcParams['axes.unicode_minus'] =False\n",
    "\n",
    "from utils import *\n",
    "\n",
    "from savings.link import Link\n",
    "from savings.node import Node\n",
    "from savings.graph import Graph\n",
    "from savings.SavingsModel import SavingsModel\n",
    "\n",
    "from savings.SavingsAlgorithm import Clarke_Wright_Savings"
   ]
  },
  {
   "cell_type": "code",
   "execution_count": 5,
   "metadata": {},
   "outputs": [],
   "source": [
    "DEPOT_INDEX = 0 # 창고의 data상 index\n",
    "DEMAND_CV = 0 # 수요 발생의 변동계수(CV)값 설정\n",
    "DEMAND_COEFFICIENT = 1 # 수요 발생량에 대해 적절히 곱해주기 위함\n",
    "ROUTE_TYPE = 'trafast' # route 탐색 방식\n",
    "JSON_PATH = './../Data/routes_with_depot' # JSON 파일들이 있는 폴더 경로\n",
    "TRUCK_CAPA = 11560 # 한 트럭이 실을 수 있는 적재 capacity (L)\n",
    "MAX_TIME = 8 * 60 * 60 * 1000 # ms 단위 최대 트럭 운전 시간\n",
    "SERVICE_TIME = 2*60*1000 # ms 단위 node별 서비스 시간\n",
    "DRIVER_SALARY = 35000000\n",
    "STOCHASTIC_DROP = 0.1 # drop 비율\n",
    "\n",
    "node_data = pd.read_csv('./../Data/data_with_depot.csv')"
   ]
  },
  {
   "cell_type": "code",
   "execution_count": 6,
   "metadata": {},
   "outputs": [
    {
     "name": "stderr",
     "output_type": "stream",
     "text": [
      "100%|██████████| 2145/2145 [00:15<00:00, 140.11it/s]\n"
     ]
    }
   ],
   "source": [
    "# 문제 상황에 대한 Graph 객체 만들기\n",
    "g = Graph()\n",
    "\n",
    "# Node 등록\n",
    "for row in node_data.iterrows():\n",
    "    data = row[1]\n",
    "\n",
    "    # Node 생성 후 등록\n",
    "    n = Node(data['index'], data['longitude'], data['latitude'])\n",
    "    n.generate_demand(data['demand_mu']*DEMAND_COEFFICIENT, data['capacity'], DEMAND_CV)\n",
    "    g.add_node(n)\n",
    "\n",
    "# Link 등록\n",
    "for n1, n2 in tqdm([comb for comb in combinations(g.nodes, 2)]):\n",
    "    if n1.index > n2.index:\n",
    "        temp = n2\n",
    "        n2 = n1\n",
    "        n1 = temp\n",
    "\n",
    "    link_cost, link_time = get_cost_time(n1.index, n2.index, ROUTE_TYPE, JSON_PATH, toll_include=True)\n",
    "    l = Link(n1, n2, link_cost, link_time)\n",
    "    g.add_link(l)\n",
    "\n",
    "# 임시: depot의 demand는 0으로 설정\n",
    "g.get_node(DEPOT_INDEX).demand = 0"
   ]
  },
  {
   "cell_type": "code",
   "execution_count": 11,
   "metadata": {},
   "outputs": [
    {
     "name": "stdout",
     "output_type": "stream",
     "text": [
      "[Clarke_Wright_Saving의 Cost 초기해]\n",
      "연간 운송비: 38,657,150원\n",
      "연간 인건비: 105,000,000원\n",
      "연간 총 비용: 143,657,150원\n",
      "Route : 0 - 11 - 6 - 9 - 16 - 44 - 2 - 3 - 5 - 4 - 27 - 20 - 30 - 29 - 22 - 39 - 32 - 54 - 42 - 23 - 19 - 14 - 15 - 1 - 45 - 24 - 26 - 33 - 49 - 43 - 31 - 25 - 0\n",
      "Demand met : 1618.9775828850002, Cost : 32666, Time 6H 51M\n",
      "\n",
      "\n",
      "Route : 0 - 18 - 28 - 38 - 37 - 17 - 48 - 40 - 47 - 41 - 8 - 12 - 50 - 53 - 10 - 52 - 0\n",
      "Demand met : 900.6742813499999, Cost : 45314, Time 7H 1M\n",
      "\n",
      "\n",
      "Route : 0 - 59 - 64 - 61 - 65 - 58 - 55 - 57 - 60 - 63 - 62 - 56 - 35 - 21 - 36 - 34 - 46 - 7 - 51 - 13 - 0\n",
      "Demand met : 2397.873554632, Cost : 27930, Time 5H 47M\n",
      "\n",
      "\n",
      "최대 적재량 11,560L\n",
      "운송비 105,910원\n",
      "총 수거 4,918L\n",
      "\n",
      "[Stochastic Model]\n"
     ]
    },
    {
     "name": "stderr",
     "output_type": "stream",
     "text": [
      "  6%|▌         | 6/100 [00:04<01:03,  1.48it/s]"
     ]
    },
    {
     "name": "stdout",
     "output_type": "stream",
     "text": [
      "better solution found\n",
      "Better Cost : 143,500,200\n"
     ]
    },
    {
     "name": "stderr",
     "output_type": "stream",
     "text": [
      " 14%|█▍        | 14/100 [00:09<00:58,  1.47it/s]"
     ]
    },
    {
     "name": "stdout",
     "output_type": "stream",
     "text": [
      "better solution found\n",
      "Better Cost : 143,217,690\n"
     ]
    },
    {
     "name": "stderr",
     "output_type": "stream",
     "text": [
      " 54%|█████▍    | 54/100 [00:41<00:33,  1.37it/s]"
     ]
    },
    {
     "name": "stdout",
     "output_type": "stream",
     "text": [
      "better solution found\n",
      "Better Cost : 141,338,670\n"
     ]
    },
    {
     "name": "stderr",
     "output_type": "stream",
     "text": [
      "100%|██████████| 100/100 [01:17<00:00,  1.29it/s]"
     ]
    },
    {
     "name": "stdout",
     "output_type": "stream",
     "text": [
      "\n",
      "[Total Saved from stochastic C&W method]\n",
      "2,318,480원\n"
     ]
    },
    {
     "name": "stderr",
     "output_type": "stream",
     "text": [
      "\n"
     ]
    }
   ],
   "source": [
    "# saving 모델 정의 및 돌리기\n",
    "svm = SavingsModel(g, DEPOT_INDEX)\n",
    "svm.calculate_savings()\n",
    "svm.apply_algorithm(TRUCK_CAPA, Clarke_Wright_Savings, MAX_TIME, SERVICE_TIME)\n",
    "print('[Clarke_Wright_Saving의 Cost 초기해]')\n",
    "svm.yearly_cost(MAX_TIME, fixed=int(DRIVER_SALARY), verbose=False)\n",
    "for rs in svm.merged_routes:\n",
    "    for r in rs:\n",
    "        print(r)\n",
    "    print('\\n')\n",
    "\n",
    "print(f'최대 적재량 {TRUCK_CAPA:,}L\\n운송비 {svm.cost:,}원\\n총 수거 {round(svm.demand):,}L')\n",
    "\n",
    "# stochastic 모델\n",
    "if (STOCHASTIC_DROP!=0):\n",
    "    print('\\n[Stochastic Model]')\n",
    "    lowest = svm.yearly_cost(MAX_TIME, fixed=int(DRIVER_SALARY), verbose=True)\n",
    "    lowest_svm = None\n",
    "\n",
    "    for i in tqdm(range(100)):\n",
    "        stochastic_svm = SavingsModel(g, DEPOT_INDEX)\n",
    "        stochastic_svm.calculate_savings()\n",
    "        stochastic_svm.apply_algorithm(TRUCK_CAPA, Clarke_Wright_Savings, MAX_TIME, SERVICE_TIME, stochastic_drop=STOCHASTIC_DROP)\n",
    "        sto_cost = stochastic_svm.yearly_cost(MAX_TIME, fixed=int(DRIVER_SALARY), verbose=True)\n",
    "        if lowest > sto_cost:\n",
    "            lowest = sto_cost\n",
    "            lowest_svm = stochastic_svm\n",
    "            print('better solution found')\n",
    "            print(f'Better Cost : {sto_cost:,}')\n",
    "\n",
    "    print('\\n[Total Saved from stochastic C&W method]')\n",
    "    print(f'{svm.yearly_cost(MAX_TIME, fixed=int(DRIVER_SALARY), verbose=True)-lowest:,}원')"
   ]
  },
  {
   "cell_type": "code",
   "execution_count": 12,
   "metadata": {},
   "outputs": [
    {
     "name": "stdout",
     "output_type": "stream",
     "text": [
      "Route : 0 - 52 - 28 - 18 - 38 - 17 - 48 - 8 - 41 - 47 - 40 - 50 - 12 - 37 - 53 - 10 - 0\n",
      "Demand met : 900.67428135, Cost : 46037, Time 7H 28M\n",
      "\n",
      "\n",
      "Route : 0 - 4 - 5 - 3 - 11 - 6 - 9 - 16 - 44 - 2 - 32 - 54 - 42 - 23 - 19 - 14 - 15 - 39 - 22 - 29 - 30 - 1 - 45 - 20 - 27 - 24 - 26 - 33 - 13 - 49 - 43 - 31 - 25 - 0\n",
      "Demand met : 1735.3193232849999, Cost : 31850, Time 6H 51M\n",
      "\n",
      "\n",
      "Route : 0 - 64 - 61 - 65 - 58 - 55 - 57 - 60 - 63 - 62 - 59 - 56 - 35 - 21 - 36 - 34 - 46 - 7 - 51 - 0\n",
      "Demand met : 2281.5318142319993, Cost : 21671, Time 5H 10M\n",
      "\n",
      "\n",
      "최대 적재량 11,560L\n",
      "운송비 99,558원\n",
      "총 수거 4,918L\n",
      "연간 운송비: 36,338,670원\n",
      "연간 인건비: 105,000,000원\n",
      "연간 총 비용: 141,338,670원\n"
     ]
    },
    {
     "data": {
      "text/plain": [
       "141338670"
      ]
     },
     "execution_count": 12,
     "metadata": {},
     "output_type": "execute_result"
    }
   ],
   "source": [
    "for rs in lowest_svm.merged_routes:\n",
    "    for r in rs:\n",
    "        print(r)\n",
    "    print('\\n')\n",
    "\n",
    "print(f'최대 적재량 {TRUCK_CAPA:,}L\\n운송비 {lowest_svm.cost:,}원\\n총 수거 {round(lowest_svm.demand):,}L')\n",
    "lowest_svm.yearly_cost(MAX_TIME, fixed=int(35000000), verbose=False)"
   ]
  },
  {
   "cell_type": "code",
   "execution_count": 14,
   "metadata": {},
   "outputs": [
    {
     "data": {
      "image/png": "[encoded data removed]",
      "text/plain": [
       "<Figure size 600x417.077 with 1 Axes>"
      ]
     },
     "metadata": {},
     "output_type": "display_data"
    }
   ],
   "source": [
    "# figsize 비율 계산\n",
    "ratio = (node_data.latitude.max() - node_data.latitude.min()) / (node_data.longitude.max() - node_data.longitude.min())\n",
    "scale = 6\n",
    "\n",
    "# fig, ax 객체 생성\n",
    "fig, ax = plt.subplots(figsize=(scale, scale * ratio))\n",
    "\n",
    "# 차량의 color 팔레트 지정\n",
    "color_pallete = ['green', 'orange', 'black', 'purple', 'olive', 'gray', 'skyblue', 'green', 'orange', 'black', 'purple', 'olive', 'gray', 'skyblue']\n",
    "\n",
    "# 데이터 플롯\n",
    "ax.scatter(node_data['longitude'], node_data['latitude'], s=1.8, c='blue', label='Machine')\n",
    "ax.scatter(svm.depot.x, svm.depot.y, s=10, c='red', label='Hub', marker='*')\n",
    "\n",
    "# 축 레이블, 제목 및 범례 설정\n",
    "ax.set_xlabel('Longitude')\n",
    "ax.set_ylabel('Latitude')\n",
    "ax.set_title('[전남/광주 지역 기기 순회 시각화]', fontsize=12)\n",
    "ax.grid()\n",
    "\n",
    "# 그래프를 보여줍니다.\n",
    "ax.legend(loc='lower right')\n",
    "\n",
    "# 각 route를 visualize\n",
    "for i, m_routes in enumerate(svm.merged_routes):\n",
    "    for route in m_routes:\n",
    "        route.visualize(ax, JSON_PATH, route_option='trafast', update_sec = 0.05, color = color_pallete[i])"
   ]
  }
 ],
 "metadata": {
  "kernelspec": {
   "display_name": "base",
   "language": "python",
   "name": "python3"
  },
  "language_info": {
   "codemirror_mode": {
    "name": "ipython",
    "version": 3
   },
   "file_extension": ".py",
   "mimetype": "text/x-python",
   "name": "python",
   "nbconvert_exporter": "python",
   "pygments_lexer": "ipython3",
   "version": "3.11.5"
  }
 },
 "nbformat": 4,
 "nbformat_minor": 2
}
